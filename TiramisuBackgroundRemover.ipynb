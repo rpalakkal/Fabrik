{
  "nbformat": 4,
  "nbformat_minor": 0,
  "metadata": {
    "colab": {
      "name": "TiramisuBackgroundRemover.ipynb",
      "provenance": [],
      "include_colab_link": true
    },
    "kernelspec": {
      "name": "python3",
      "display_name": "Python 3"
    },
    "accelerator": "GPU"
  },
  "cells": [
    {
      "cell_type": "markdown",
      "metadata": {
        "id": "view-in-github",
        "colab_type": "text"
      },
      "source": [
        "<a href=\"https://colab.research.google.com/github/rpalakkal/Fabrik/blob/master/TiramisuBackgroundRemover.ipynb\" target=\"_parent\"><img src=\"https://colab.research.google.com/assets/colab-badge.svg\" alt=\"Open In Colab\"/></a>"
      ]
    },
    {
      "cell_type": "markdown",
      "metadata": {
        "id": "pJyRk6UNiVLv",
        "colab_type": "text"
      },
      "source": [
        "# Background Removal with the Tiramisu Model"
      ]
    },
    {
      "cell_type": "markdown",
      "metadata": {
        "id": "2z7aeHldi80B",
        "colab_type": "text"
      },
      "source": [
        "In this notebook we will be using a Tiramisu model implemented in Keras"
      ]
    },
    {
      "cell_type": "code",
      "metadata": {
        "id": "EbAMtlA7x-sQ",
        "colab_type": "code",
        "outputId": "9522a28a-aeab-4267-c610-e1260cac7c9f",
        "colab": {
          "base_uri": "https://localhost:8080/",
          "height": 34
        }
      },
      "source": [
        "%tensorflow_version 2.x\n",
        "import tensorflow as tf\n",
        "from tensorflow import keras\n",
        "import numpy as np\n",
        "import matplotlib.pyplot as plt\n",
        "import tensorflow_datasets as tfds"
      ],
      "execution_count": 1,
      "outputs": [
        {
          "output_type": "stream",
          "text": [
            "TensorFlow 2.x selected.\n"
          ],
          "name": "stdout"
        }
      ]
    },
    {
      "cell_type": "code",
      "metadata": {
        "id": "nz92kkHDyqPL",
        "colab_type": "code",
        "colab": {}
      },
      "source": [
        "dataset = tfds.load('caltech_birds2010')"
      ],
      "execution_count": 0,
      "outputs": []
    },
    {
      "cell_type": "code",
      "metadata": {
        "id": "wHZeIxj66GnB",
        "colab_type": "code",
        "colab": {}
      },
      "source": [
        "imgSize = 64\n",
        "def processData(dataset):\n",
        "  x, y = [], []\n",
        "  for datapoint in dataset:\n",
        "    resizedImg = tf.image.resize(datapoint['image'], (imgSize, imgSize))\n",
        "    normalizedImg = (tf.cast(resizedImg, tf.float32) / 255).numpy()\n",
        "    x.append(normalizedImg)\n",
        "\n",
        "    resizedMask = tf.image.resize(datapoint['segmentation_mask'], (imgSize, imgSize))\n",
        "    normalizedMask = (resizedMask).numpy()\n",
        "    y.append(normalizedMask)\n",
        "\n",
        "  return np.array(x), np.array(y)"
      ],
      "execution_count": 0,
      "outputs": []
    },
    {
      "cell_type": "code",
      "metadata": {
        "id": "-AqC8-1V6IQO",
        "colab_type": "code",
        "colab": {}
      },
      "source": [
        "trainX, trainY = processData(dataset['train'])\n",
        "testX, testY = processData(dataset['test'])"
      ],
      "execution_count": 0,
      "outputs": []
    },
    {
      "cell_type": "code",
      "metadata": {
        "id": "Oav6FsqA2r0T",
        "colab_type": "code",
        "outputId": "96f7ccb1-f4b0-4ec8-c04d-7199e6a35c95",
        "colab": {
          "base_uri": "https://localhost:8080/",
          "height": 519
        }
      },
      "source": [
        "plt.imshow(trainX[0])\n",
        "plt.show()\n",
        "plt.imshow(trainY[0].reshape((64, 64)))\n",
        "plt.show()"
      ],
      "execution_count": 5,
      "outputs": [
        {
          "output_type": "display_data",
          "data": {
            "image/png": "[encoded data removed]",
            "text/plain": [
              "<Figure size 432x288 with 1 Axes>"
            ]
          },
          "metadata": {
            "tags": []
          }
        },
        {
          "output_type": "display_data",
          "data": {
            "image/png": "[encoded data removed]",
            "text/plain": [
              "<Figure size 432x288 with 1 Axes>"
            ]
          },
          "metadata": {
            "tags": []
          }
        }
      ]
    },
    {
      "cell_type": "code",
      "metadata": {
        "id": "0CCvCvt7E2kD",
        "colab_type": "code",
        "colab": {}
      },
      "source": [
        "def removeBg(image, mask):\n",
        "  img = np.copy(image)\n",
        "  for idx in np.ndindex(mask.shape[:2]):\n",
        "    if mask[idx] == 0:\n",
        "      img[idx]=np.array([255, 255, 255])\n",
        "  return img"
      ],
      "execution_count": 0,
      "outputs": []
    },
    {
      "cell_type": "code",
      "metadata": {
        "id": "IlcWacsN9yoE",
        "colab_type": "code",
        "outputId": "cbaf46b1-6286-40c7-ed7b-207a3f9bfde5",
        "colab": {
          "base_uri": "https://localhost:8080/",
          "height": 285
        }
      },
      "source": [
        "plt.imshow(removeBg(trainX[0],trainY[0]))\n",
        "plt.show()"
      ],
      "execution_count": 7,
      "outputs": [
        {
          "output_type": "stream",
          "text": [
            "WARNING:matplotlib.image:Clipping input data to the valid range for imshow with RGB data ([0..1] for floats or [0..255] for integers).\n"
          ],
          "name": "stderr"
        },
        {
          "output_type": "display_data",
          "data": {
            "image/png": "[encoded data removed]",
            "text/plain": [
              "<Figure size 432x288 with 1 Axes>"
            ]
          },
          "metadata": {
            "tags": []
          }
        }
      ]
    },
    {
      "cell_type": "markdown",
      "metadata": {
        "id": "wuidvqApbd88",
        "colab_type": "text"
      },
      "source": [
        "## Setting up the Tiramisu Model"
      ]
    },
    {
      "cell_type": "code",
      "metadata": {
        "id": "4raNf3CaMdeG",
        "colab_type": "code",
        "colab": {}
      },
      "source": [
        "def layer(x):\n",
        "  x = tf.keras.layers.BatchNormalization()(x)\n",
        "  x = tf.keras.layers.ReLU()(x)\n",
        "  x = tf.keras.layers.Conv2D(16, kernel_size=(3, 3), padding='same')(x)\n",
        "  x = tf.keras.layers.Dropout(0.2)(x)\n",
        "  return x"
      ],
      "execution_count": 0,
      "outputs": []
    },
    {
      "cell_type": "code",
      "metadata": {
        "id": "__8HdOi5nRBC",
        "colab_type": "code",
        "colab": {}
      },
      "source": [
        "def denseBlock(x, layers):\n",
        "  outputBlock = []\n",
        "  for i in range(layers-1):\n",
        "    tmp = x\n",
        "    x = layer(x)\n",
        "    outputBlock.append(x)\n",
        "    x = tf.keras.layers.concatenate([x, tmp])\n",
        "  x = layer(x)\n",
        "  outputBlock.append(x)\n",
        "  outputBlock = tf.keras.layers.concatenate(outputBlock)\n",
        "  return outputBlock"
      ],
      "execution_count": 0,
      "outputs": []
    },
    {
      "cell_type": "code",
      "metadata": {
        "id": "_6k57riuKk1O",
        "colab_type": "code",
        "colab": {}
      },
      "source": [
        "def transitionDown(x, filters):\n",
        "    x = tf.keras.layers.BatchNormalization()(x) \n",
        "    x = tf.keras.layers.ReLU()(x)\n",
        "    x = tf.keras.layers.Conv2D(filters, kernel_size=(1, 1), padding='same')(x)\n",
        "    x = tf.keras.layers.Dropout(0.2)(x)\n",
        "    x = tf.keras.layers.MaxPool2D(padding='same')(x)\n",
        "    return x"
      ],
      "execution_count": 0,
      "outputs": []
    },
    {
      "cell_type": "code",
      "metadata": {
        "id": "M2iJxqT2Kmbt",
        "colab_type": "code",
        "colab": {}
      },
      "source": [
        "def transitionUp(x, filters):\n",
        "    x = tf.keras.layers.Conv2DTranspose(filters, kernel_size=(3, 3), strides=2, padding='same')(x)\n",
        "    return x"
      ],
      "execution_count": 0,
      "outputs": []
    },
    {
      "cell_type": "code",
      "metadata": {
        "id": "HVdr4juhb0pB",
        "colab_type": "code",
        "colab": {}
      },
      "source": [
        "layers = [4, 5, 7, 10, 12]\n",
        "nbFilters = [112, 192, 304, 464, 656, 1088, 816, 578, 384, 256]\n",
        "skipConnections=[]"
      ],
      "execution_count": 0,
      "outputs": []
    },
    {
      "cell_type": "code",
      "metadata": {
        "id": "ewqvYINab1P5",
        "colab_type": "code",
        "colab": {}
      },
      "source": [
        "input = tf.keras.layers.Input((imgSize, imgSize, 3))\n",
        "x = keras.layers.Conv2D(48, kernel_size=(3, 3), padding='same')(input)"
      ],
      "execution_count": 0,
      "outputs": []
    },
    {
      "cell_type": "code",
      "metadata": {
        "id": "goMXL-TTb22J",
        "colab_type": "code",
        "colab": {}
      },
      "source": [
        "for i in range(5):\n",
        "  x = denseBlock(x, layers[i])\n",
        "  skipConnections.append(x)\n",
        "  x = transitionDown(x, nbFilters[i])\n"
      ],
      "execution_count": 0,
      "outputs": []
    },
    {
      "cell_type": "code",
      "metadata": {
        "id": "ZBDFkN2Xb5Xe",
        "colab_type": "code",
        "colab": {}
      },
      "source": [
        "x = denseBlock(x, 15)"
      ],
      "execution_count": 0,
      "outputs": []
    },
    {
      "cell_type": "code",
      "metadata": {
        "id": "6Vq9LpHsb67X",
        "colab_type": "code",
        "colab": {}
      },
      "source": [
        "skipConnections = skipConnections[::-1]\n",
        "layers = layers[::-1]\n",
        "nbFilters = nbFilters[5:]"
      ],
      "execution_count": 0,
      "outputs": []
    },
    {
      "cell_type": "code",
      "metadata": {
        "id": "QffTWlq2b9HS",
        "colab_type": "code",
        "colab": {}
      },
      "source": [
        "for i in range(5):\n",
        "  x = transitionUp(x, nbFilters[i])\n",
        "  x = tf.keras.layers.concatenate([x, skipConnections[i]])\n",
        "  x = denseBlock(x, layers[i])"
      ],
      "execution_count": 0,
      "outputs": []
    },
    {
      "cell_type": "code",
      "metadata": {
        "id": "Yi-mjg4Pb_KF",
        "colab_type": "code",
        "colab": {}
      },
      "source": [
        "x = tf.keras.layers.Conv2D(3, kernel_size=(1, 1), activation='softmax')(x)\n",
        "model = tf.keras.models.Model(inputs=input, outputs=x)"
      ],
      "execution_count": 0,
      "outputs": []
    },
    {
      "cell_type": "markdown",
      "metadata": {
        "id": "_dVCYrZnbjju",
        "colab_type": "text"
      },
      "source": [
        "## Training the Model"
      ]
    },
    {
      "cell_type": "code",
      "metadata": {
        "id": "TWCrw8HeL9PB",
        "colab_type": "code",
        "colab": {}
      },
      "source": [
        "model.compile(loss='sparse_categorical_crossentropy', optimizer='adam', metrics=['accuracy'])"
      ],
      "execution_count": 0,
      "outputs": []
    },
    {
      "cell_type": "code",
      "metadata": {
        "id": "ZNaCR7JjL-X0",
        "colab_type": "code",
        "outputId": "74e45dd7-c7b3-4474-c06f-0f243c4d7bd8",
        "colab": {
          "base_uri": "https://localhost:8080/",
          "height": 1000
        }
      },
      "source": [
        "model.fit(trainX, trainY, validation_data=(testX, testY), epochs=30, batch_size=64, shuffle=True)"
      ],
      "execution_count": 20,
      "outputs": [
        {
          "output_type": "stream",
          "text": [
            "Train on 3000 samples, validate on 3033 samples\n",
            "Epoch 1/30\n",
            "3000/3000 [==============================] - 50s 17ms/sample - loss: 0.4783 - accuracy: 0.8073 - val_loss: 0.4940 - val_accuracy: 0.8373\n",
            "Epoch 2/30\n",
            "3000/3000 [==============================] - 25s 8ms/sample - loss: 0.3328 - accuracy: 0.8449 - val_loss: 0.3786 - val_accuracy: 0.8395\n",
            "Epoch 3/30\n",
            "3000/3000 [==============================] - 25s 8ms/sample - loss: 0.2791 - accuracy: 0.8771 - val_loss: 0.3713 - val_accuracy: 0.8377\n",
            "Epoch 4/30\n",
            "3000/3000 [==============================] - 25s 8ms/sample - loss: 0.2637 - accuracy: 0.8846 - val_loss: 0.3509 - val_accuracy: 0.8401\n",
            "Epoch 5/30\n",
            "3000/3000 [==============================] - 25s 8ms/sample - loss: 0.2474 - accuracy: 0.8933 - val_loss: 0.4999 - val_accuracy: 0.8377\n",
            "Epoch 6/30\n",
            "3000/3000 [==============================] - 25s 8ms/sample - loss: 0.2391 - accuracy: 0.8955 - val_loss: 0.4125 - val_accuracy: 0.8410\n",
            "Epoch 7/30\n",
            "3000/3000 [==============================] - 25s 8ms/sample - loss: 0.2315 - accuracy: 0.8989 - val_loss: 0.4394 - val_accuracy: 0.8438\n",
            "Epoch 8/30\n",
            "3000/3000 [==============================] - 25s 8ms/sample - loss: 0.2258 - accuracy: 0.9016 - val_loss: 0.3400 - val_accuracy: 0.8519\n",
            "Epoch 9/30\n",
            "3000/3000 [==============================] - 25s 8ms/sample - loss: 0.2116 - accuracy: 0.9072 - val_loss: 0.4619 - val_accuracy: 0.8547\n",
            "Epoch 10/30\n",
            "3000/3000 [==============================] - 25s 8ms/sample - loss: 0.2041 - accuracy: 0.9109 - val_loss: 0.2810 - val_accuracy: 0.8818\n",
            "Epoch 11/30\n",
            "3000/3000 [==============================] - 25s 8ms/sample - loss: 0.1959 - accuracy: 0.9143 - val_loss: 0.2552 - val_accuracy: 0.8939\n",
            "Epoch 12/30\n",
            "3000/3000 [==============================] - 25s 8ms/sample - loss: 0.1958 - accuracy: 0.9142 - val_loss: 0.3389 - val_accuracy: 0.8768\n",
            "Epoch 13/30\n",
            "3000/3000 [==============================] - 25s 8ms/sample - loss: 0.1884 - accuracy: 0.9173 - val_loss: 0.2155 - val_accuracy: 0.9055\n",
            "Epoch 14/30\n",
            "3000/3000 [==============================] - 25s 8ms/sample - loss: 0.1797 - accuracy: 0.9213 - val_loss: 0.2417 - val_accuracy: 0.8961\n",
            "Epoch 15/30\n",
            "3000/3000 [==============================] - 25s 8ms/sample - loss: 0.1730 - accuracy: 0.9236 - val_loss: 0.2201 - val_accuracy: 0.9065\n",
            "Epoch 16/30\n",
            "3000/3000 [==============================] - 25s 8ms/sample - loss: 0.1659 - accuracy: 0.9271 - val_loss: 0.2260 - val_accuracy: 0.9014\n",
            "Epoch 17/30\n",
            "3000/3000 [==============================] - 25s 8ms/sample - loss: 0.1643 - accuracy: 0.9276 - val_loss: 0.2531 - val_accuracy: 0.8879\n",
            "Epoch 18/30\n",
            "3000/3000 [==============================] - 25s 8ms/sample - loss: 0.1608 - accuracy: 0.9296 - val_loss: 0.2250 - val_accuracy: 0.9054\n",
            "Epoch 19/30\n",
            "3000/3000 [==============================] - 25s 8ms/sample - loss: 0.1568 - accuracy: 0.9309 - val_loss: 0.2309 - val_accuracy: 0.9011\n",
            "Epoch 20/30\n",
            "3000/3000 [==============================] - 25s 8ms/sample - loss: 0.1528 - accuracy: 0.9332 - val_loss: 0.1809 - val_accuracy: 0.9221\n",
            "Epoch 21/30\n",
            "3000/3000 [==============================] - 25s 8ms/sample - loss: 0.1465 - accuracy: 0.9356 - val_loss: 0.2109 - val_accuracy: 0.9125\n",
            "Epoch 22/30\n",
            "3000/3000 [==============================] - 25s 8ms/sample - loss: 0.1454 - accuracy: 0.9366 - val_loss: 0.2000 - val_accuracy: 0.9144\n",
            "Epoch 23/30\n",
            "3000/3000 [==============================] - 25s 8ms/sample - loss: 0.1398 - accuracy: 0.9380 - val_loss: 0.2232 - val_accuracy: 0.9128\n",
            "Epoch 24/30\n",
            "3000/3000 [==============================] - 25s 8ms/sample - loss: 0.1383 - accuracy: 0.9392 - val_loss: 0.3230 - val_accuracy: 0.8704\n",
            "Epoch 25/30\n",
            "3000/3000 [==============================] - 25s 8ms/sample - loss: 0.1357 - accuracy: 0.9403 - val_loss: 0.2213 - val_accuracy: 0.9045\n",
            "Epoch 26/30\n",
            "3000/3000 [==============================] - 25s 8ms/sample - loss: 0.1329 - accuracy: 0.9418 - val_loss: 0.1903 - val_accuracy: 0.9240\n",
            "Epoch 27/30\n",
            "3000/3000 [==============================] - 25s 8ms/sample - loss: 0.1273 - accuracy: 0.9438 - val_loss: 0.1765 - val_accuracy: 0.9256\n",
            "Epoch 28/30\n",
            "3000/3000 [==============================] - 25s 8ms/sample - loss: 0.1246 - accuracy: 0.9449 - val_loss: 0.1831 - val_accuracy: 0.9234\n",
            "Epoch 29/30\n",
            "3000/3000 [==============================] - 25s 8ms/sample - loss: 0.1258 - accuracy: 0.9442 - val_loss: 0.2566 - val_accuracy: 0.9027\n",
            "Epoch 30/30\n",
            "3000/3000 [==============================] - 25s 8ms/sample - loss: 0.1210 - accuracy: 0.9469 - val_loss: 0.1950 - val_accuracy: 0.9223\n"
          ],
          "name": "stdout"
        },
        {
          "output_type": "execute_result",
          "data": {
            "text/plain": [
              "<tensorflow.python.keras.callbacks.History at 0x7f1197afb320>"
            ]
          },
          "metadata": {
            "tags": []
          },
          "execution_count": 20
        }
      ]
    },
    {
      "cell_type": "markdown",
      "metadata": {
        "id": "1gbQsmLDbI8r",
        "colab_type": "text"
      },
      "source": [
        "## Testing out Background Removal"
      ]
    },
    {
      "cell_type": "code",
      "metadata": {
        "id": "wss79jeIAsbA",
        "colab_type": "code",
        "colab": {}
      },
      "source": [
        "def predict(i):\n",
        "  i = tf.image.resize(i, (64, 64))\n",
        "  prediction = model.predict(tf.reshape(i, (1,64,64,3)))\n",
        "  prediction = np.argmax(prediction, axis=-1)[0]\n",
        "  return prediction"
      ],
      "execution_count": 0,
      "outputs": []
    },
    {
      "cell_type": "code",
      "metadata": {
        "id": "qnY-bmIcA3xf",
        "colab_type": "code",
        "colab": {
          "base_uri": "https://localhost:8080/",
          "height": 536
        },
        "outputId": "02586fb6-7a4a-44e8-b23e-0f42eac0b35f"
      },
      "source": [
        "plt.imshow(testX[100])\n",
        "plt.show()\n",
        "\n",
        "mask = predict(testX[100])\n",
        "plt.imshow(removeBg(testX[100],mask))\n",
        "plt.show()"
      ],
      "execution_count": 22,
      "outputs": [
        {
          "output_type": "display_data",
          "data": {
            "image/png": "[encoded data removed]",
            "text/plain": [
              "<Figure size 432x288 with 1 Axes>"
            ]
          },
          "metadata": {
            "tags": []
          }
        },
        {
          "output_type": "stream",
          "text": [
            "WARNING:matplotlib.image:Clipping input data to the valid range for imshow with RGB data ([0..1] for floats or [0..255] for integers).\n"
          ],
          "name": "stderr"
        },
        {
          "output_type": "display_data",
          "data": {
            "image/png": "[encoded data removed]",
            "text/plain": [
              "<Figure size 432x288 with 1 Axes>"
            ]
          },
          "metadata": {
            "tags": []
          }
        }
      ]
    }
  ]
}